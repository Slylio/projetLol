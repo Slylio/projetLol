{
 "cells": [
  {
   "cell_type": "code",
   "execution_count": null,
   "metadata": {},
   "outputs": [],
   "source": [
    "import requests\n",
    "import json\n",
    "import time\n",
    "import os\n",
    "import sys\n",
    "import pandas as pd\n",
    "import numpy as np\n",
    "import matplotlib.pyplot as plt\n",
    "import seaborn as sns"
   ]
  },
  {
   "cell_type": "markdown",
   "metadata": {},
   "source": [
    "# Tout le travail API\n"
   ]
  },
  {
   "cell_type": "code",
   "execution_count": null,
   "metadata": {},
   "outputs": [],
   "source": [
    "#API key\n",
    "api_key = \"RGAPI-a905b251-7935-4d28-9321-85d9d72fdada\" #Compte Slylio \n",
    "api_key2 = \"RGAPI-86be80e4-14ed-49a4-939c-234d3f04d8b7\" #Compte emilio\n",
    "api_key3 = \"RGAPI-2671fc10-105b-473e-a9aa-634fa03e20c1\" #Compte projetML (username : projetlolML, password : projetlol56)"
   ]
  },
  {
   "cell_type": "code",
   "execution_count": null,
   "metadata": {},
   "outputs": [],
   "source": [
    "#Multi-threading API calls function if bigger dataset needed\n",
    "def multi_api_calls():\n",
    "    #TODO\n",
    "    return"
   ]
  },
  {
   "cell_type": "code",
   "execution_count": null,
   "metadata": {},
   "outputs": [],
   "source": [
    "\"\"\"_summary_\n",
    "    This function returns the summonerId of master + ranks players in europe west.\n",
    "    \n",
    "    _description_\n",
    "    This function returns the summonerId of the player by using the API key.\n",
    "    \n",
    "    _parameters_\n",
    "    api_key : str\n",
    "        The API key that is used to authenticate the request\n",
    "\"\"\"\n",
    "    \n",
    "def get_summonerId(api_key):\n",
    "    challenger_url = 'https://euw1.api.riotgames.com/lol/league/v4/challengerleagues/by-queue/RANKED_SOLO_5x5?api_key={}'.format(api_key) # Challanger ENDPOINT\n",
    "    grandmaster_url = 'https://euw1.api.riotgames.com/lol/league/v4/grandmasterleagues/by-queue/RANKED_SOLO_5x5?api_key={}'.format(api_key) # Grandmaster EDNPOINT\n",
    "    master_url = 'https://euw1.api.riotgames.com/lol/league/v4/masterleagues/by-queue/RANKED_SOLO_5x5?api_key={}'.format(api_key) # Master ENDPOINT\n",
    "\n",
    "    league_url_lists = [challenger_url, grandmaster_url, master_url] # Creating a list with the 3 endpoints (master, grandmaster and challenger)\n",
    "\n",
    "    df_list = [] # A list that will store the response from the get request (league_df)\n",
    "\n",
    "    for url in league_url_lists: # Loop interation through league_url_lists\n",
    "        resp = requests.get(url) # Sending a get request to the url\n",
    "        league_df = pd.json_normalize(resp.json()['entries'])\n",
    "        df_list.append(league_df)\n",
    "    \n",
    "    final_league_df = pd.concat(df_list) # Concatenating the stored information in league_url_lists to create the final_league_df\n",
    "\n",
    "    return final_league_df"
   ]
  },
  {
   "cell_type": "code",
   "execution_count": null,
   "metadata": {},
   "outputs": [],
   "source": [
    "league_df = get_summonerId(api_key)\n",
    "print('league_df has information about {} players between master and challenger elo'.format(league_df.shape[0]))"
   ]
  },
  {
   "cell_type": "code",
   "execution_count": null,
   "metadata": {},
   "outputs": [],
   "source": [
    "def get_summonerinfo_by_summonerId(df, api_key):\n",
    "    \n",
    "    summoner_list = [] # list that will store the each summoner_info DataFrame\n",
    "\n",
    "    for i in range(len(df)): # len() get the numbers of rows of the match_ids parameter inserted. Then we use the range() function to create a sequence of number starting from 0 to number returned by len(). \n",
    "                            # With that we can interate trough each line in the match_ids dataframe (our function parameter) using the iloc function to get the matchid.\n",
    "\n",
    "        # Creating a dynamic api_ulr for each register in the summonerId column using iloc\n",
    "        api_url = 'https://euw1.api.riotgames.com/lol/summoner/v4/summoners/{}?api_key={}'.format(df['summonerId'].iloc[i],api_key)\n",
    "\n",
    "        # Repeating the process we did at the begining\n",
    "        resp = requests.get(api_url)\n",
    "        print(resp.status_code)\n",
    "\n",
    "        # if, elif and while true to deal with riot api rate limit\n",
    "        if resp.status_code == 200:\n",
    "            pass\n",
    "        elif resp.status_code == 429:\n",
    "            while True: # while loop because of riot api cost\n",
    "                if resp.status_code == 429: #429 error is api cost issue\n",
    "                    print('429 delay try 10 second') #approximate 10 second wait before trying again\n",
    "                    time.sleep(10)\n",
    "\n",
    "                    # Trying again\n",
    "                    api_url = 'https://euw1.api.riotgames.com/lol/summoner/v4/summoners/{}?api_key={}'.format(df['summonerId'].iloc[i],api_key)\n",
    "                    resp = requests.get(api_url)\n",
    "                    print(resp.status_code)\n",
    "\n",
    "                elif resp.status_code == 200:\n",
    "                    print('limit cost resolve')\n",
    "                    break\n",
    "\n",
    "        summoner_info = pd.json_normalize(resp.json()) # The same process we did at the beggining to create the DataFrame\n",
    "        summoner_list.append(summoner_info) # Appending the DataFrame generated (summoner_info) into the list \"summoner_list\"\n",
    "        \n",
    "    final_summoner_info = pd.concat(summoner_list) # Using pd.concat to concatenate the results stored in the list \"summoner_list\"\n",
    "            \n",
    "    return final_summoner_info\n",
    "    "
   ]
  },
  {
   "cell_type": "code",
   "execution_count": null,
   "metadata": {},
   "outputs": [],
   "source": [
    "summoner_df = get_summonerinfo_by_summonerId(league_df[:100], api_key)"
   ]
  },
  {
   "cell_type": "code",
   "execution_count": null,
   "metadata": {},
   "outputs": [],
   "source": [
    "summoner_df"
   ]
  },
  {
   "cell_type": "code",
   "execution_count": null,
   "metadata": {},
   "outputs": [],
   "source": [
    "def get_matchids_by_puuid(df, api_key):\n",
    "\n",
    "    matchids_list = []\n",
    "\n",
    "    for i in range(len(df)):\n",
    "\n",
    "        api_url = 'https://europe.api.riotgames.com/lol/match/v5/matches/by-puuid/{}/ids?queue=420&type=ranked&start=0&count=50&api_key={}'.format(df['puuid'].iloc[i], api_key)\n",
    "\n",
    "        resp = requests.get(api_url) # Sending a get request to the api_url\n",
    "        print(resp.json())\n",
    "\n",
    "        if resp.status_code == 200:\n",
    "            matchids = pd.DataFrame(resp.json(), columns=['matchid']) \n",
    "            matchids_list.append(matchids) # Appending the DataFrame generated to the list \"matchids_list\"\n",
    "        elif resp.status_code == 429:\n",
    "            while True: # while loop because of riot api cost\n",
    "                if resp.status_code == 429: #429 error is api cost issue\n",
    "                    print('429 delay try 100 second') #approximate 110 second wait\n",
    "                    time.sleep(10)\n",
    "\n",
    "                    api_url = 'https://europe.api.riotgames.com/lol/match/v5/matches/by-puuid/{}/ids?queue=420&type=ranked&start=0&count=50&api_key={}'.format(df['puuid'].iloc[i], api_key)\n",
    "                    resp = requests.get(api_url)\n",
    "                    print(resp.status_code)\n",
    "\n",
    "                    if resp.status_code == 200:\n",
    "                        matchids = pd.DataFrame(resp.json(), columns=['matchid']) \n",
    "                        matchids_list.append(matchids) # Appending the DataFrame generated to the list \"matchids_list\"\n",
    "                        print('limit cost resolve')\n",
    "                        break\n",
    "                else:\n",
    "                    break\n",
    "\n",
    "    matchids_df = pd.concat(matchids_list) # Using pd.concat to concatenate the results stored in the \"matchids_list\"\n",
    "    \n",
    "    return matchids_df\n"
   ]
  },
  {
   "cell_type": "code",
   "execution_count": null,
   "metadata": {},
   "outputs": [],
   "source": [
    "matchids_df  = get_matchids_by_puuid(summoner_df, api_key)"
   ]
  },
  {
   "cell_type": "code",
   "execution_count": null,
   "metadata": {},
   "outputs": [],
   "source": [
    "#Remove duplicates\n",
    "size_before = matchids_df.shape[0]\n",
    "matchids_df = matchids_df.drop_duplicates()\n",
    "size_after = matchids_df.shape[0]\n",
    "print('Removed {} duplicates'.format(size_before - size_after))\n",
    "print('matchids_df has information about {} matches'.format(matchids_df.shape[0]))"
   ]
  },
  {
   "cell_type": "code",
   "execution_count": null,
   "metadata": {},
   "outputs": [],
   "source": [
    "matchids_df.reset_index(inplace=True)\n",
    "matchids_df.drop(columns = 'index', inplace = True )\n",
    "matchids_df"
   ]
  },
  {
   "cell_type": "code",
   "execution_count": null,
   "metadata": {},
   "outputs": [],
   "source": [
    "matchids_df.to_csv('matchids.csv', index = False)"
   ]
  },
  {
   "cell_type": "code",
   "execution_count": null,
   "metadata": {},
   "outputs": [],
   "source": [
    "def get_match_info_by_matchId(match_ids, api_key):\n",
    "\n",
    "    matchid_info_list = [] # List that will store the dataframes generated, for each match id in the for loop \n",
    "\n",
    "    for i in range(len(match_ids)):# len() get the numbers of rows of the match_ids parameter inserted. Then we use the range() function to create a sequence of number starting from 0 to number returned by len(). \n",
    "                            # With that we can interate trough each line in the match_ids dataframe (our function parameter) using the iloc function to get the matchid.\n",
    "\n",
    "        api_ulr = 'https://europe.api.riotgames.com/lol/match/v5/matches/{}?api_key={}'.format(match_ids['matchid'].iloc[i], api_key) # here we use the iloc function as explained above to form the api link for each matchid\n",
    "        resp = requests.get(api_ulr) # Sending a get request to the api_url\n",
    "        print(resp.status_code) # Printing the status_code of the request\n",
    "\n",
    "        if resp.status_code == 200: # Here we need to use if statment, because of the riot API rate limit which is 20 requests every 1 sec and 100 requests every 2 minutes. A 200 status_code means that the request was successful so it can move on.\n",
    "            pass                        \n",
    "        elif resp.status_code == 429: # A 429 means that we have exceeded the rate limit. To solve that we need to wait and then try again to get a successful request\n",
    "            while True: # To do taht we use a while true loop, to execute the if, elif statment repeatdly until the status_code is 200. After that we use break statement to come out of this loop.\n",
    "                if resp.status_code == 429: \n",
    "                    print('429 delay try 10 second') #approximate 110 second wait to work\n",
    "                    time.sleep(10) # Sleep\n",
    "\n",
    "                    api_url = 'https://europe.api.riotgames.com/lol/match/v5/matches/{}?api_key={}'.format(match_ids['matchid'].iloc[i], api_key) # Trying the request again\n",
    "                    resp = requests.get(api_url)\n",
    "                    print(resp.status_code)\n",
    "\n",
    "                elif resp.status_code == 200:\n",
    "                    print('limit cost resolve')\n",
    "                    break        \n",
    "\n",
    "        # Same process we did in the beginning             \n",
    "        matchid_info = pd.json_normalize(resp.json()['info']['participants'])\n",
    "        matchid_info_list.append(matchid_info) # Merging all the dataframes generated and then stored in the matchid_info_list with the concat() function\n",
    "        \n",
    "    matchid_info_df = pd.concat(matchid_info_list)\n",
    "\n",
    "    return matchid_info_df"
   ]
  },
  {
   "cell_type": "code",
   "execution_count": null,
   "metadata": {},
   "outputs": [],
   "source": [
    "matchs_info_df = get_match_info_by_matchId(matchids_df, api_key)"
   ]
  },
  {
   "cell_type": "code",
   "execution_count": null,
   "metadata": {},
   "outputs": [],
   "source": [
    "matchs_info_df\n",
    "matchs_info_df.to_csv('raw_matchs_infos_2900.csv', index = False)\n"
   ]
  }
 ],
 "metadata": {
  "kernelspec": {
   "display_name": "base",
   "language": "python",
   "name": "python3"
  },
  "language_info": {
   "name": "python",
   "version": "3.11.5"
  }
 },
 "nbformat": 4,
 "nbformat_minor": 2
}
