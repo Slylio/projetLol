{
 "cells": [
  {
   "cell_type": "code",
   "execution_count": 2,
   "metadata": {},
   "outputs": [],
   "source": [
    "import requests\n",
    "import json\n",
    "import time\n",
    "import os\n",
    "import sys\n",
    "import pandas as pd\n",
    "import numpy as np\n",
    "import matplotlib.pyplot as plt #"
   ]
  },
  {
   "cell_type": "code",
   "execution_count": 3,
   "metadata": {},
   "outputs": [],
   "source": [
    "#API key\n",
    "api_key = \"RGAPI-73eb964c-cf9a-494b-81f6-6c5141c32883\"\n",
    "gameName = \"Slylio\" #username\n",
    "tagLine = \"EUW\" #suffixe"
   ]
  },
  {
   "cell_type": "code",
   "execution_count": 4,
   "metadata": {},
   "outputs": [
    {
     "name": "stdout",
     "output_type": "stream",
     "text": [
      "nICwUFHOH_TsQczqTIDUQioPzLXiN3fytgCmRxKhbq0puAX8nqzIEWAsPLP2prR7H3bQF3DOvJ4iyg\n"
     ]
    }
   ],
   "source": [
    "#Player unviveraly unique identifier\n",
    "requestPUUID = requests.get(f\"https://europe.api.riotgames.com/riot/account/v1/accounts/by-riot-id/{gameName}/{tagLine}?api_key={api_key}\")\n",
    "puuid = requestPUUID.json()[\"puuid\"] \n",
    "print(puuid)"
   ]
  },
  {
   "cell_type": "code",
   "execution_count": 5,
   "metadata": {},
   "outputs": [
    {
     "name": "stdout",
     "output_type": "stream",
     "text": [
      "EUW1_6835115969\n",
      "EUW1_6835054292\n"
     ]
    }
   ],
   "source": [
    "#Match history from PUUID \n",
    "nb_of_games = 2\n",
    "games = requests.get(f\"https://europe.api.riotgames.com/lol/match/v5/matches/by-puuid/{puuid}/ids?type=ranked&start=0&count={nb_of_games}&api_key={api_key}\")\n",
    "for game in games.json():\n",
    "    print(game)"
   ]
  },
  {
   "cell_type": "code",
   "execution_count": 7,
   "metadata": {},
   "outputs": [
    {
     "name": "stdout",
     "output_type": "stream",
     "text": [
      "Match n° 2 / 2 \r"
     ]
    }
   ],
   "source": [
    "#Extract matchs data from match ids\n",
    "matchs = games.json()\n",
    "matchs_data=[]\n",
    "data = pd.DataFrame()\n",
    "cout=0\n",
    "for matchId in matchs:\n",
    "    cout+=1\n",
    "    print(\"Match n°\",cout,\"/\",nb_of_games,\"\\r\",end=\"\")\n",
    "    match_data = requests.get(f\"https://europe.api.riotgames.com/lol/match/v5/matches/{matchId}?api_key={api_key}\")\n",
    "    matchs_data.append(match_data.json())\n",
    "    \n"
   ]
  },
  {
   "cell_type": "code",
   "execution_count": 12,
   "metadata": {},
   "outputs": [],
   "source": [
    "def get_matchids_by_puuid(puuid, num, api_key):\n",
    "\n",
    "    matchids_list = []\n",
    "\n",
    "\n",
    "    api_url = 'https://europe.api.riotgames.com/lol/match/v5/matches/by-puuid/{}/ids?queue=420&type=ranked&start=0&count={}&api_key={}'.format(puuid,num, api_key)\n",
    "\n",
    "    resp = requests.get(api_url)\n",
    "    print(resp.status_code)\n",
    "    if resp.status_code == 200: \n",
    "        pass\n",
    "    elif resp.status_code == 429: #429 error is api cost issue\n",
    "        while True: # while loop because of riot api cost\n",
    "            if resp.status_code == 429: #429 error is api cost issue\n",
    "                print('429 delay try 100 second') #approximate 110 second wait\n",
    "                time.sleep(10)\n",
    "                api_url = 'https://europe.api.riotgames.com/lol/match/v5/matches/by-puuid/{}/ids?queue=420&type=ranked&start=0&count={}&api_key={}'.format(puuid,num, api_key)\n",
    "                resp = requests.get(api_url)\n",
    "                print(resp.status_code)\n",
    "            elif resp.status_code == 200:\n",
    "                print('limit cost resolve')\n",
    "                break        \n",
    "\n",
    "    matchids = pd.DataFrame(resp.json(), columns = ['matchid']) \n",
    "    matchids_list.append(matchids) # Appending the DataFrame generated to the list \"matchids_list\"\n",
    "\n",
    "    matchids_df = pd.concat(matchids_list) \n",
    "    \n",
    "    return matchids_df"
   ]
  },
  {
   "cell_type": "code",
   "execution_count": 13,
   "metadata": {},
   "outputs": [],
   "source": [
    "def get_match_info_by_matchId(match_ids, api_key):\n",
    "\n",
    "    matchid_info_list = [] # List that will store the dataframes generated, for each match id in the for loop \n",
    "\n",
    "    for i in range(len(match_ids)):# len() get the numbers of rows of the match_ids parameter inserted. Then we use the range() function to create a sequence of number starting from 0 to number returned by len(). \n",
    "                            # With that we can interate trough each line in the match_ids dataframe (our function parameter) using the iloc function to get the matchid.\n",
    "\n",
    "        api_ulr = 'https://europe.api.riotgames.com/lol/match/v5/matches/{}?api_key={}'.format(match_ids['matchid'].iloc[i], api_key) # here we use the iloc function as explained above to form the api link for each matchid\n",
    "        resp = requests.get(api_ulr) # Sending a get request to the api_url\n",
    "        print(resp.status_code) # Printing the status_code of the request\n",
    "\n",
    "        if resp.status_code == 200: # Here we need to use if statment, because of the riot API rate limit which is 20 requests every 1 sec and 100 requests every 2 minutes. A 200 status_code means that the request was successful so it can move on.\n",
    "            pass                        \n",
    "        elif resp.status_code == 429: # A 429 means that we have exceeded the rate limit. To solve that we need to wait and then try again to get a successful request\n",
    "            while True: # To do taht we use a while true loop, to execute the if, elif statment repeatdly until the status_code is 200. After that we use break statement to come out of this loop.\n",
    "                if resp.status_code == 429: \n",
    "                    print('429 delay try 10 second') #approximate 110 second wait to work\n",
    "                    time.sleep(10) # Sleep\n",
    "\n",
    "                    api_url = 'https://europe.api.riotgames.com/lol/match/v5/matches/{}?api_key={}'.format(match_ids['matchid'].iloc[i], api_key) # Trying the request again\n",
    "                    resp = requests.get(api_url)\n",
    "                    print(resp.status_code)\n",
    "\n",
    "                elif resp.status_code == 200:\n",
    "                    print('limit cost resolve')\n",
    "                    break        \n",
    "\n",
    "        # Same process we did in the beginning             \n",
    "        matchid_info = pd.json_normalize(resp.json()['info']['participants'])\n",
    "        matchid_info_list.append(matchid_info) # Merging all the dataframes generated and then stored in the matchid_info_list with the concat() function\n",
    "        \n",
    "    matchid_info_df = pd.concat(matchid_info_list)\n",
    "\n",
    "    return matchid_info_df"
   ]
  },
  {
   "cell_type": "code",
   "execution_count": 17,
   "metadata": {},
   "outputs": [
    {
     "name": "stdout",
     "output_type": "stream",
     "text": [
      "200\n",
      "200\n",
      "200\n",
      "200\n",
      "200\n",
      "200\n",
      "200\n",
      "200\n",
      "200\n",
      "200\n",
      "200\n"
     ]
    }
   ],
   "source": [
    "matchsid = get_matchids_by_puuid(puuid, 10, api_key)\n",
    "matchid_info_df= get_match_info_by_matchId(matchsid, api_key)\n"
   ]
  },
  {
   "cell_type": "code",
   "execution_count": 1,
   "metadata": {},
   "outputs": [
    {
     "ename": "NameError",
     "evalue": "name 'matchid_info_df' is not defined",
     "output_type": "error",
     "traceback": [
      "\u001b[0;31m---------------------------------------------------------------------------\u001b[0m",
      "\u001b[0;31mNameError\u001b[0m                                 Traceback (most recent call last)",
      "Cell \u001b[0;32mIn[1], line 1\u001b[0m\n\u001b[0;32m----> 1\u001b[0m \u001b[43mmatchid_info_df\u001b[49m\n",
      "\u001b[0;31mNameError\u001b[0m: name 'matchid_info_df' is not defined"
     ]
    }
   ],
   "source": [
    "matchid_info_df"
   ]
  },
  {
   "cell_type": "code",
   "execution_count": null,
   "metadata": {},
   "outputs": [],
   "source": []
  }
 ],
 "metadata": {
  "kernelspec": {
   "display_name": "Python 3",
   "language": "python",
   "name": "python3"
  },
  "language_info": {
   "codemirror_mode": {
    "name": "ipython",
    "version": 3
   },
   "file_extension": ".py",
   "mimetype": "text/x-python",
   "name": "python",
   "nbconvert_exporter": "python",
   "pygments_lexer": "ipython3",
   "version": "3.10.12"
  }
 },
 "nbformat": 4,
 "nbformat_minor": 2
}
