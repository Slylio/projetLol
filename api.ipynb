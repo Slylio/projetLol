{
 "cells": [
  {
   "cell_type": "code",
   "execution_count": 4,
   "metadata": {},
   "outputs": [],
   "source": [
    "import requests\n",
    "import json\n",
    "import time\n",
    "import os\n",
    "import sys\n",
    "import pandas as pd\n",
    "import numpy as np\n",
    "import matplotlib.pyplot as plt"
   ]
  },
  {
   "cell_type": "code",
   "execution_count": 5,
   "metadata": {},
   "outputs": [],
   "source": [
    "#API key\n",
    "api_key = \"RGAPI-60b42ec8-92d6-4081-89a3-200cc18cb78a\"\n",
    "gameName = \"Slylio\" #username\n",
    "tagLine = \"EUW\" #suffixe"
   ]
  },
  {
   "cell_type": "code",
   "execution_count": 6,
   "metadata": {},
   "outputs": [
    {
     "name": "stdout",
     "output_type": "stream",
     "text": [
      "nICwUFHOH_TsQczqTIDUQioPzLXiN3fytgCmRxKhbq0puAX8nqzIEWAsPLP2prR7H3bQF3DOvJ4iyg\n"
     ]
    }
   ],
   "source": [
    "#Player unviveraly unique identifier\n",
    "requestPUUID = requests.get(f\"https://europe.api.riotgames.com/riot/account/v1/accounts/by-riot-id/{gameName}/{tagLine}?api_key={api_key}\")\n",
    "puuid = requestPUUID.json()[\"puuid\"] \n",
    "print(puuid)"
   ]
  },
  {
   "cell_type": "code",
   "execution_count": 35,
   "metadata": {},
   "outputs": [
    {
     "name": "stdout",
     "output_type": "stream",
     "text": [
      "EUW1_6830408285\n",
      "EUW1_6830353221\n",
      "EUW1_6830091371\n",
      "EUW1_6830045852\n",
      "EUW1_6829650766\n",
      "EUW1_6829189664\n",
      "EUW1_6829137720\n",
      "EUW1_6829091488\n",
      "EUW1_6828547486\n",
      "EUW1_6828468759\n",
      "EUW1_6826787684\n",
      "EUW1_6826741768\n",
      "EUW1_6825636753\n",
      "EUW1_6825583849\n",
      "EUW1_6825553473\n",
      "EUW1_6825512517\n",
      "EUW1_6825476622\n",
      "EUW1_6824433146\n",
      "EUW1_6824360960\n",
      "EUW1_6821265424\n",
      "EUW1_6821205029\n",
      "EUW1_6820269222\n",
      "EUW1_6818243881\n",
      "EUW1_6817876234\n",
      "EUW1_6817832257\n",
      "EUW1_6817791170\n",
      "EUW1_6817751054\n",
      "EUW1_6817736140\n",
      "EUW1_6817704800\n",
      "EUW1_6817685454\n",
      "EUW1_6817654890\n",
      "EUW1_6815607325\n",
      "EUW1_6815553132\n",
      "EUW1_6815479868\n",
      "EUW1_6815289763\n",
      "EUW1_6812960275\n",
      "EUW1_6812875294\n",
      "EUW1_6812354586\n",
      "EUW1_6812293142\n",
      "EUW1_6811843539\n",
      "EUW1_6811458138\n",
      "EUW1_6811299367\n",
      "EUW1_6811222638\n",
      "EUW1_6811145183\n",
      "EUW1_6811043250\n",
      "EUW1_6810576771\n",
      "EUW1_6810500015\n",
      "EUW1_6810454151\n",
      "EUW1_6810428685\n",
      "EUW1_6810381611\n",
      "EUW1_6810332488\n",
      "EUW1_6809166946\n",
      "EUW1_6809121562\n",
      "EUW1_6809065459\n",
      "EUW1_6809010656\n",
      "EUW1_6808971494\n",
      "EUW1_6808883359\n",
      "EUW1_6807083610\n",
      "EUW1_6806773383\n",
      "EUW1_6806756569\n",
      "EUW1_6806724421\n",
      "EUW1_6804965509\n",
      "EUW1_6804928364\n",
      "EUW1_6804870437\n",
      "EUW1_6804600280\n",
      "EUW1_6804550654\n",
      "EUW1_6804431967\n",
      "EUW1_6804365509\n",
      "EUW1_6803311273\n",
      "EUW1_6803220822\n",
      "EUW1_6802892092\n",
      "EUW1_6801977330\n",
      "EUW1_6801903895\n",
      "EUW1_6800626130\n",
      "EUW1_6800548623\n",
      "EUW1_6799943321\n",
      "EUW1_6799888484\n",
      "EUW1_6799825678\n",
      "EUW1_6799019267\n",
      "EUW1_6798949272\n",
      "EUW1_6798899609\n",
      "EUW1_6798849689\n",
      "EUW1_6798305503\n",
      "EUW1_6798252580\n",
      "EUW1_6798172266\n",
      "EUW1_6798132786\n",
      "EUW1_6797923414\n",
      "EUW1_6797881695\n",
      "EUW1_6797318766\n",
      "EUW1_6795923987\n",
      "EUW1_6795892976\n",
      "EUW1_6795852812\n",
      "EUW1_6795779337\n",
      "EUW1_6795699696\n",
      "EUW1_6795606284\n",
      "EUW1_6794935334\n",
      "EUW1_6794902979\n",
      "EUW1_6794373144\n",
      "EUW1_6794310703\n",
      "EUW1_6794224928\n"
     ]
    }
   ],
   "source": [
    "#Match history from PUUID \n",
    "nb_of_games = 100\n",
    "games = requests.get(f\"https://europe.api.riotgames.com/lol/match/v5/matches/by-puuid/{puuid}/ids?type=ranked&start=0&count={nb_of_games}&api_key={api_key}\")\n",
    "for game in games.json():\n",
    "    print(game)"
   ]
  },
  {
   "cell_type": "code",
   "execution_count": 36,
   "metadata": {},
   "outputs": [
    {
     "name": "stdout",
     "output_type": "stream",
     "text": [
      "Match n° 100 / 100 \r"
     ]
    }
   ],
   "source": [
    "#Extract matchs data from match ids\n",
    "matchs = games.json()\n",
    "matchs_data=[]\n",
    "data = pd.DataFrame()\n",
    "cout=0\n",
    "for match in matchs:\n",
    "    cout+=1\n",
    "    print(\"Match n°\",cout,\"/\",nb_of_games,\"\\r\",end=\"\")\n",
    "    match_data = requests.get(f\"https://europe.api.riotgames.com/lol/match/v5/matches/{match}?api_key={api_key}\")\n",
    "    matchs_data.append(match_data.json())\n",
    "    \n"
   ]
  },
  {
   "cell_type": "code",
   "execution_count": 39,
   "metadata": {},
   "outputs": [],
   "source": [
    "def get_matchids_by_puuid(puuid, num, api_key):\n",
    "\n",
    "    matchids_list = []\n",
    "\n",
    "\n",
    "    api_url = 'https://europe.api.riotgames.com/lol/match/v5/matches/by-puuid/{}/ids?queue=420&type=ranked&start=0&count={}&api_key={}'.format(puuid,num, api_key)\n",
    "\n",
    "    resp = requests.get(api_url)\n",
    "    print(resp.status_code)\n",
    "    if resp.status_code == 200: \n",
    "        pass\n",
    "    elif resp.status_code == 429: #429 error is api cost issue\n",
    "        while True: # while loop because of riot api cost\n",
    "            if resp.status_code == 429: #429 error is api cost issue\n",
    "                print('429 delay try 100 second') #approximate 110 second wait\n",
    "                time.sleep(10)\n",
    "                api_url = 'https://europe.api.riotgames.com/lol/match/v5/matches/by-puuid/{}/ids?queue=420&type=ranked&start=0&count={}&api_key={}'.format(puuid,num, api_key)\n",
    "                resp = requests.get(api_url)\n",
    "                print(resp.status_code)\n",
    "            elif resp.status_code == 200:\n",
    "                print('limit cost resolve')\n",
    "                break        \n",
    "\n",
    "    matchids = pd.DataFrame(resp.json(), columns = ['matchid']) \n",
    "    matchids_list.append(matchids) # Appending the DataFrame generated to the list \"matchids_list\"\n",
    "\n",
    "    matchids_df = pd.concat(matchids_list) \n",
    "    \n",
    "    return matchids_df"
   ]
  },
  {
   "cell_type": "code",
   "execution_count": 40,
   "metadata": {},
   "outputs": [
    {
     "name": "stdout",
     "output_type": "stream",
     "text": [
      "429\n",
      "429 delay try 100 second\n",
      "429\n",
      "429 delay try 100 second\n",
      "429\n",
      "429 delay try 100 second\n"
     ]
    }
   ],
   "source": [
    "df = get_matchids_by_puuid(puuid, 100, api_key)\n",
    "df"
   ]
  },
  {
   "cell_type": "code",
   "execution_count": null,
   "metadata": {},
   "outputs": [],
   "source": []
  }
 ],
 "metadata": {
  "kernelspec": {
   "display_name": "Python 3",
   "language": "python",
   "name": "python3"
  },
  "language_info": {
   "codemirror_mode": {
    "name": "ipython",
    "version": 3
   },
   "file_extension": ".py",
   "mimetype": "text/x-python",
   "name": "python",
   "nbconvert_exporter": "python",
   "pygments_lexer": "ipython3",
   "version": "3.10.12"
  }
 },
 "nbformat": 4,
 "nbformat_minor": 2
}
